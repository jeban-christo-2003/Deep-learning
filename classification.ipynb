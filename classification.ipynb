{
  "nbformat": 4,
  "nbformat_minor": 0,
  "metadata": {
    "colab": {
      "provenance": []
    },
    "kernelspec": {
      "name": "python3",
      "display_name": "Python 3"
    },
    "language_info": {
      "name": "python"
    }
  },
  "cells": [
    {
      "cell_type": "code",
      "execution_count": null,
      "metadata": {
        "colab": {
          "base_uri": "https://localhost:8080/"
        },
        "id": "6YPASzwMIlJd",
        "outputId": "04ca7302-ff73-44f9-9edf-88ab3773c1b4"
      },
      "outputs": [
        {
          "output_type": "stream",
          "name": "stdout",
          "text": [
            "Downloading data from https://storage.googleapis.com/tensorflow/keras-applications/mobilenet_v2/mobilenet_v2_weights_tf_dim_ordering_tf_kernels_1.0_224_no_top.h5\n",
            "9406464/9406464 [==============================] - 0s 0us/step\n",
            "Epoch 1/10\n",
            "115/115 [==============================] - 351s 3s/step - loss: 1.0189 - accuracy: 0.7326 - val_loss: 0.4582 - val_accuracy: 0.8506\n",
            "Epoch 2/10\n",
            "115/115 [==============================] - 348s 3s/step - loss: 0.2614 - accuracy: 0.9204 - val_loss: 0.4696 - val_accuracy: 0.8490\n",
            "Epoch 3/10\n",
            "115/115 [==============================] - 362s 3s/step - loss: 0.1489 - accuracy: 0.9571 - val_loss: 0.4261 - val_accuracy: 0.8605\n",
            "Epoch 4/10\n",
            "115/115 [==============================] - 283s 2s/step - loss: 0.0840 - accuracy: 0.9837 - val_loss: 0.4529 - val_accuracy: 0.8588\n",
            "Epoch 5/10\n",
            "115/115 [==============================] - 289s 2s/step - loss: 0.0597 - accuracy: 0.9886 - val_loss: 0.4520 - val_accuracy: 0.8662\n",
            "Epoch 6/10\n",
            "115/115 [==============================] - 283s 2s/step - loss: 0.0366 - accuracy: 0.9951 - val_loss: 0.4261 - val_accuracy: 0.8694\n",
            "Epoch 7/10\n",
            "115/115 [==============================] - 350s 3s/step - loss: 0.0223 - accuracy: 0.9989 - val_loss: 0.4341 - val_accuracy: 0.8703\n",
            "Epoch 8/10\n",
            "115/115 [==============================] - 342s 3s/step - loss: 0.0151 - accuracy: 0.9997 - val_loss: 0.4610 - val_accuracy: 0.8708\n",
            "Epoch 9/10\n",
            "115/115 [==============================] - 285s 2s/step - loss: 0.0123 - accuracy: 1.0000 - val_loss: 0.4530 - val_accuracy: 0.8765\n",
            "Epoch 10/10\n",
            "115/115 [==============================] - 345s 3s/step - loss: 0.0091 - accuracy: 1.0000 - val_loss: 0.4602 - val_accuracy: 0.8749\n",
            "115/115 [==============================] - 145s 1s/step - loss: 0.4602 - accuracy: 0.8749\n",
            "\n",
            "Test accuracy: 0.8748977780342102\n"
          ]
        }
      ],
      "source": [
        "import tensorflow as tf\n",
        "import tensorflow_datasets as tfds\n",
        "from tensorflow.keras import layers, models, preprocessing\n",
        "from tensorflow.keras.applications import MobileNetV2\n",
        "\n",
        "# Download and preprocess the dataset\n",
        "(train_data, validation_data), info = tfds.load('oxford_iiit_pet:3.*.*', split=['train', 'test'], with_info=True)\n",
        "num_classes = info.features['label'].num_classes\n",
        "\n",
        "def preprocess_data(data):\n",
        "    image = data['image']\n",
        "    label = data['label']\n",
        "    image = tf.image.resize(image, (224, 224))  # Resize the image\n",
        "    image = tf.cast(image, tf.float32) / 255.0   # Normalize pixel values\n",
        "    return image, tf.one_hot(label, num_classes) # One-hot encode labels\n",
        "\n",
        "train_data = train_data.map(preprocess_data).shuffle(1000).batch(32)\n",
        "validation_data = validation_data.map(preprocess_data).batch(32)\n",
        "\n",
        "# Define a transfer learning model\n",
        "base_model = MobileNetV2(input_shape=(224, 224, 3), include_top=False, weights='imagenet')\n",
        "base_model.trainable = False\n",
        "\n",
        "model = models.Sequential([\n",
        "    base_model,\n",
        "    layers.GlobalAveragePooling2D(),\n",
        "    layers.Dense(128, activation='relu'),\n",
        "    layers.Dense(num_classes, activation='softmax')\n",
        "])\n",
        "\n",
        "# Compile the model\n",
        "model.compile(optimizer='adam',\n",
        "              loss='categorical_crossentropy',\n",
        "              metrics=['accuracy'])\n",
        "\n",
        "# Train the model\n",
        "history = model.fit(train_data, epochs=10, validation_data=validation_data)\n",
        "\n",
        "# Evaluate the model\n",
        "test_loss, test_acc = model.evaluate(validation_data)\n",
        "print('\\nTest accuracy:', test_acc)\n"
      ]
    },
    {
      "cell_type": "code",
      "source": [
        "model.save('animal_classification_model.h5')"
      ],
      "metadata": {
        "colab": {
          "base_uri": "https://localhost:8080/"
        },
        "id": "sRqRrBdYZwZk",
        "outputId": "c0e0ddcf-845e-4263-c2ba-975abe03a8bc"
      },
      "execution_count": null,
      "outputs": [
        {
          "output_type": "stream",
          "name": "stderr",
          "text": [
            "/usr/local/lib/python3.10/dist-packages/keras/src/engine/training.py:3103: UserWarning: You are saving your model as an HDF5 file via `model.save()`. This file format is considered legacy. We recommend using instead the native Keras format, e.g. `model.save('my_model.keras')`.\n",
            "  saving_api.save_model(\n"
          ]
        }
      ]
    }
  ]
}