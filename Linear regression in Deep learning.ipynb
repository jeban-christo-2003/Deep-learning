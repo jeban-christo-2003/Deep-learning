{
 "cells": [
  {
   "cell_type": "code",
   "execution_count": 19,
   "id": "dfe493d3",
   "metadata": {},
   "outputs": [],
   "source": [
    "import numpy as np\n",
    "import tensorflow as tf"
   ]
  },
  {
   "cell_type": "code",
   "execution_count": 20,
   "id": "202b891b",
   "metadata": {},
   "outputs": [],
   "source": [
    "np.random.seed(0)\n",
    "X = np.random.randn(100, 1)\n",
    "y = 3 * X + 2 + np.random.randn(100, 1)"
   ]
  },
  {
   "cell_type": "code",
   "execution_count": 21,
   "id": "0bf1c69c",
   "metadata": {},
   "outputs": [],
   "source": [
    "model = tf.keras.models.Sequential([\n",
    "    tf.keras.layers.Dense(1, input_shape=(1,))\n",
    "])"
   ]
  },
  {
   "cell_type": "code",
   "execution_count": 22,
   "id": "2114bb83",
   "metadata": {},
   "outputs": [],
   "source": [
    "model.compile(optimizer='sgd', loss='mean_squared_error')"
   ]
  },
  {
   "cell_type": "code",
   "execution_count": 23,
   "id": "7dd0c58b",
   "metadata": {},
   "outputs": [
    {
     "name": "stdout",
     "output_type": "stream",
     "text": [
      "Epoch 1/50\n",
      "4/4 [==============================] - 0s 1ms/step - loss: 8.8173\n",
      "Epoch 2/50\n",
      "4/4 [==============================] - 0s 1ms/step - loss: 7.6453\n",
      "Epoch 3/50\n",
      "4/4 [==============================] - 0s 1ms/step - loss: 6.6399\n",
      "Epoch 4/50\n",
      "4/4 [==============================] - 0s 1ms/step - loss: 5.4888\n",
      "Epoch 5/50\n",
      "4/4 [==============================] - 0s 1ms/step - loss: 4.6719\n",
      "Epoch 6/50\n",
      "4/4 [==============================] - 0s 1ms/step - loss: 4.1517\n",
      "Epoch 7/50\n",
      "4/4 [==============================] - 0s 1ms/step - loss: 3.6602\n",
      "Epoch 8/50\n",
      "4/4 [==============================] - 0s 2ms/step - loss: 3.2638\n",
      "Epoch 9/50\n",
      "4/4 [==============================] - 0s 1ms/step - loss: 2.9240\n",
      "Epoch 10/50\n",
      "4/4 [==============================] - 0s 1ms/step - loss: 2.6537\n",
      "Epoch 11/50\n",
      "4/4 [==============================] - 0s 2ms/step - loss: 2.3749\n",
      "Epoch 12/50\n",
      "4/4 [==============================] - 0s 1ms/step - loss: 2.1615\n",
      "Epoch 13/50\n",
      "4/4 [==============================] - 0s 1ms/step - loss: 1.9097\n",
      "Epoch 14/50\n",
      "4/4 [==============================] - 0s 1ms/step - loss: 1.7466\n",
      "Epoch 15/50\n",
      "4/4 [==============================] - 0s 1ms/step - loss: 1.6713\n",
      "Epoch 16/50\n",
      "4/4 [==============================] - 0s 2ms/step - loss: 1.5861\n",
      "Epoch 17/50\n",
      "4/4 [==============================] - 0s 2ms/step - loss: 1.5061\n",
      "Epoch 18/50\n",
      "4/4 [==============================] - 0s 1ms/step - loss: 1.4284\n",
      "Epoch 19/50\n",
      "4/4 [==============================] - 0s 1ms/step - loss: 1.3700\n",
      "Epoch 20/50\n",
      "4/4 [==============================] - 0s 1ms/step - loss: 1.3349\n",
      "Epoch 21/50\n",
      "4/4 [==============================] - 0s 2ms/step - loss: 1.2756\n",
      "Epoch 22/50\n",
      "4/4 [==============================] - 0s 1ms/step - loss: 1.2410\n",
      "Epoch 23/50\n",
      "4/4 [==============================] - 0s 2ms/step - loss: 1.2089\n",
      "Epoch 24/50\n",
      "4/4 [==============================] - 0s 1ms/step - loss: 1.1885\n",
      "Epoch 25/50\n",
      "4/4 [==============================] - 0s 2ms/step - loss: 1.1692\n",
      "Epoch 26/50\n",
      "4/4 [==============================] - 0s 1ms/step - loss: 1.1390\n",
      "Epoch 27/50\n",
      "4/4 [==============================] - 0s 1ms/step - loss: 1.1239\n",
      "Epoch 28/50\n",
      "4/4 [==============================] - 0s 1ms/step - loss: 1.1157\n",
      "Epoch 29/50\n",
      "4/4 [==============================] - 0s 2ms/step - loss: 1.1033\n",
      "Epoch 30/50\n",
      "4/4 [==============================] - 0s 2ms/step - loss: 1.0914\n",
      "Epoch 31/50\n",
      "4/4 [==============================] - 0s 1ms/step - loss: 1.0864\n",
      "Epoch 32/50\n",
      "4/4 [==============================] - 0s 2ms/step - loss: 1.0828\n",
      "Epoch 33/50\n",
      "4/4 [==============================] - 0s 1ms/step - loss: 1.0838\n",
      "Epoch 34/50\n",
      "4/4 [==============================] - 0s 2ms/step - loss: 1.0770\n",
      "Epoch 35/50\n",
      "4/4 [==============================] - 0s 2ms/step - loss: 1.0755\n",
      "Epoch 36/50\n",
      "4/4 [==============================] - 0s 1ms/step - loss: 1.0725\n",
      "Epoch 37/50\n",
      "4/4 [==============================] - 0s 1ms/step - loss: 1.0693\n",
      "Epoch 38/50\n",
      "4/4 [==============================] - 0s 2ms/step - loss: 1.0691\n",
      "Epoch 39/50\n",
      "4/4 [==============================] - 0s 2ms/step - loss: 1.0670\n",
      "Epoch 40/50\n",
      "4/4 [==============================] - 0s 1ms/step - loss: 1.0628\n",
      "Epoch 41/50\n",
      "4/4 [==============================] - 0s 1ms/step - loss: 1.0620\n",
      "Epoch 42/50\n",
      "4/4 [==============================] - 0s 1ms/step - loss: 1.0629\n",
      "Epoch 43/50\n",
      "4/4 [==============================] - 0s 1ms/step - loss: 1.0641\n",
      "Epoch 44/50\n",
      "4/4 [==============================] - 0s 2ms/step - loss: 1.0585\n",
      "Epoch 45/50\n",
      "4/4 [==============================] - 0s 1ms/step - loss: 1.0589\n",
      "Epoch 46/50\n",
      "4/4 [==============================] - 0s 2ms/step - loss: 1.0589\n",
      "Epoch 47/50\n",
      "4/4 [==============================] - 0s 1ms/step - loss: 1.0587\n",
      "Epoch 48/50\n",
      "4/4 [==============================] - 0s 1ms/step - loss: 1.0602\n",
      "Epoch 49/50\n",
      "4/4 [==============================] - 0s 2ms/step - loss: 1.0597\n",
      "Epoch 50/50\n",
      "4/4 [==============================] - 0s 895us/step - loss: 1.0598\n",
      "4/4 [==============================] - 0s 1ms/step\n"
     ]
    }
   ],
   "source": [
    "\n",
    "model.fit(X, y, epochs=50, verbose=1)\n",
    "\n",
    "predictions = model.predict(X)\n"
   ]
  },
  {
   "cell_type": "code",
   "execution_count": 24,
   "id": "4d21b0b6",
   "metadata": {},
   "outputs": [
    {
     "name": "stdout",
     "output_type": "stream",
     "text": [
      "Learned slope: 3.0923913\n",
      "Learned intercept: 2.1068819\n"
     ]
    }
   ],
   "source": [
    "weights = model.layers[0].get_weights()\n",
    "print(\"Learned slope:\", weights[0][0][0])\n",
    "print(\"Learned intercept:\", weights[1][0])"
   ]
  }
 ],
 "metadata": {
  "kernelspec": {
   "display_name": "Python 3 (ipykernel)",
   "language": "python",
   "name": "python3"
  },
  "language_info": {
   "codemirror_mode": {
    "name": "ipython",
    "version": 3
   },
   "file_extension": ".py",
   "mimetype": "text/x-python",
   "name": "python",
   "nbconvert_exporter": "python",
   "pygments_lexer": "ipython3",
   "version": "3.9.13"
  }
 },
 "nbformat": 4,
 "nbformat_minor": 5
}
